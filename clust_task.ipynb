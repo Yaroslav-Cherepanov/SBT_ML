{
 "cells": [
  {
   "cell_type": "code",
   "execution_count": 1,
   "metadata": {
    "collapsed": true
   },
   "outputs": [],
   "source": [
    "import pandas as pd\n",
    "from sklearn.cluster import MeanShift\n",
    "import math \n",
    "\n",
    "import warnings\n",
    "warnings.filterwarnings('ignore')"
   ]
  },
  {
   "cell_type": "code",
   "execution_count": 2,
   "metadata": {
    "collapsed": false
   },
   "outputs": [],
   "source": [
    "init_data = pd.read_csv('C:\\\\workspace\\\\phystech\\\\SBT_ML\\\\umn_foursquare_datasets\\\\checkins.dat', sep='|')\n",
    "init_data.columns = init_data.columns.map(lambda x: x.strip())\n",
    "init_data.latitude = init_data.latitude.map(lambda x: str(x).strip())\n",
    "init_data.longitude = init_data.longitude.map(lambda x: str(x).strip())\n",
    "init_data = init_data[(init_data.latitude.map(lambda x: len(x)) != 0)&(init_data.longitude.map(lambda x: len(x)) != 0)]\n",
    "\n",
    "init_data.drop(init_data.head(1).index, inplace=True)\n",
    "init_data.drop(init_data.tail(1).index, inplace=True)\n",
    "\n",
    "init_data.latitude = init_data.latitude.map(lambda x: float(x))\n",
    "init_data.longitude = init_data.longitude.map(lambda x: float(x))"
   ]
  },
  {
   "cell_type": "code",
   "execution_count": 3,
   "metadata": {
    "collapsed": false
   },
   "outputs": [],
   "source": [
    "init_data = init_data[:100000]"
   ]
  },
  {
   "cell_type": "code",
   "execution_count": 4,
   "metadata": {
    "collapsed": false
   },
   "outputs": [],
   "source": [
    "clusters_labels = MeanShift(bandwidth=.1, n_jobs=-1).fit_predict(init_data[['latitude', 'longitude']])"
   ]
  },
  {
   "cell_type": "code",
   "execution_count": 5,
   "metadata": {
    "collapsed": false
   },
   "outputs": [
    {
     "name": "stdout",
     "output_type": "stream",
     "text": [
      "100000\n"
     ]
    }
   ],
   "source": [
    "print len(clusters_labels)"
   ]
  },
  {
   "cell_type": "code",
   "execution_count": 6,
   "metadata": {
    "collapsed": false
   },
   "outputs": [],
   "source": [
    "init_data.loc[:,'clust_label'] = clusters_labels\n",
    "clust_counts = dict(init_data.clust_label.value_counts())\n",
    "big_clusters = [i[0] for i in filter(lambda x: x[1]>15, clust_counts.items())]"
   ]
  },
  {
   "cell_type": "code",
   "execution_count": 7,
   "metadata": {
    "collapsed": false
   },
   "outputs": [],
   "source": [
    "cutt_data = init_data[init_data.clust_label.isin(big_clusters)]"
   ]
  },
  {
   "cell_type": "code",
   "execution_count": 8,
   "metadata": {
    "collapsed": false
   },
   "outputs": [],
   "source": [
    "# clust_df = pd.DataFrame(columns=['cluster', 'cl_latitude', 'cl_longitude'])\n",
    "rows_list = []\n",
    "for clust in cutt_data.clust_label.unique():\n",
    "    rows_list.append({'cluster':clust,\n",
    "                      'cl_latitude':cutt_data[cutt_data.clust_label == clust].latitude.mean(),\n",
    "                      'cl_longitude':cutt_data[cutt_data.clust_label == clust].longitude.mean()})\n",
    "clust_df = pd.DataFrame(rows_list)"
   ]
  },
  {
   "cell_type": "code",
   "execution_count": 9,
   "metadata": {
    "collapsed": true
   },
   "outputs": [],
   "source": [
    "def geo_dist(shir_1, dolg_1, shir_2, dolg_2):\n",
    "    # rad - радиус сферы (Земли)\n",
    "    rad = 6372795\n",
    "\n",
    "    #в радианах\n",
    "    lat1 = shir_1*math.pi/180.\n",
    "    lat2 = shir_2*math.pi/180.\n",
    "    long1 = dolg_1*math.pi/180.\n",
    "    long2 = dolg_2*math.pi/180.\n",
    "\n",
    "    #косинусы и синусы широт и разницы долгот\n",
    "    cl1 = math.cos(lat1)\n",
    "    cl2 = math.cos(lat2)\n",
    "    sl1 = math.sin(lat1)\n",
    "    sl2 = math.sin(lat2)\n",
    "    delta = long2 - long1\n",
    "    cdelta = math.cos(delta)\n",
    "    sdelta = math.sin(delta)\n",
    "\n",
    "    #вычисления длины большого круга\n",
    "    y = math.sqrt(math.pow(cl2*sdelta,2)+math.pow(cl1*sl2-sl1*cl2*cdelta,2))\n",
    "    x = sl1*sl2+cl1*cl2*cdelta\n",
    "    ad = math.atan2(y,x)\n",
    "    dist = ad*rad\n",
    "    \n",
    "    return dist"
   ]
  },
  {
   "cell_type": "code",
   "execution_count": 10,
   "metadata": {
    "collapsed": false
   },
   "outputs": [],
   "source": [
    "nearest_offices = [(33.751277, -118.188740), (25.867736, -80.324116), (51.503016, -0.075479), \n",
    "                   (52.378894, 4.885084), (39.366487, 117.036146), (-33.868457, 151.205134)]\n",
    "dist_to_nearest = []\n",
    "for clust in clust_df.cluster:\n",
    "    distances = []\n",
    "    for office in nearest_offices:\n",
    "        distances.append(geo_dist(office[0], office[1], clust_df[clust_df.cluster==clust].iloc[0].cl_latitude, \n",
    "                                  clust_df[clust_df.cluster==clust].iloc[0].cl_longitude))\n",
    "    dist_to_nearest.append(min(distances))\n",
    "clust_df.loc[:,'dist_to_nearest'] = dist_to_nearest"
   ]
  },
  {
   "cell_type": "code",
   "execution_count": 11,
   "metadata": {
    "collapsed": false
   },
   "outputs": [
    {
     "data": {
      "text/html": [
       "<div>\n",
       "<table border=\"1\" class=\"dataframe\">\n",
       "  <thead>\n",
       "    <tr style=\"text-align: right;\">\n",
       "      <th></th>\n",
       "      <th>latitude</th>\n",
       "      <th>longitude</th>\n",
       "    </tr>\n",
       "  </thead>\n",
       "  <tbody>\n",
       "    <tr>\n",
       "      <th>271</th>\n",
       "      <td>52.372964</td>\n",
       "      <td>4.892317</td>\n",
       "    </tr>\n",
       "    <tr>\n",
       "      <th>140</th>\n",
       "      <td>-33.860630</td>\n",
       "      <td>151.204776</td>\n",
       "    </tr>\n",
       "    <tr>\n",
       "      <th>355</th>\n",
       "      <td>25.845672</td>\n",
       "      <td>-80.318891</td>\n",
       "    </tr>\n",
       "    <tr>\n",
       "      <th>119</th>\n",
       "      <td>51.502786</td>\n",
       "      <td>-0.124192</td>\n",
       "    </tr>\n",
       "    <tr>\n",
       "      <th>18</th>\n",
       "      <td>33.805774</td>\n",
       "      <td>-118.155494</td>\n",
       "    </tr>\n",
       "    <tr>\n",
       "      <th>166</th>\n",
       "      <td>25.790049</td>\n",
       "      <td>-80.212558</td>\n",
       "    </tr>\n",
       "    <tr>\n",
       "      <th>185</th>\n",
       "      <td>33.864529</td>\n",
       "      <td>-118.038644</td>\n",
       "    </tr>\n",
       "    <tr>\n",
       "      <th>141</th>\n",
       "      <td>25.698997</td>\n",
       "      <td>-80.286142</td>\n",
       "    </tr>\n",
       "    <tr>\n",
       "      <th>113</th>\n",
       "      <td>26.006447</td>\n",
       "      <td>-80.201624</td>\n",
       "    </tr>\n",
       "    <tr>\n",
       "      <th>94</th>\n",
       "      <td>33.864732</td>\n",
       "      <td>-118.360905</td>\n",
       "    </tr>\n",
       "    <tr>\n",
       "      <th>125</th>\n",
       "      <td>33.971404</td>\n",
       "      <td>-118.167856</td>\n",
       "    </tr>\n",
       "    <tr>\n",
       "      <th>15</th>\n",
       "      <td>33.669017</td>\n",
       "      <td>-117.918595</td>\n",
       "    </tr>\n",
       "    <tr>\n",
       "      <th>107</th>\n",
       "      <td>33.831280</td>\n",
       "      <td>-117.899132</td>\n",
       "    </tr>\n",
       "    <tr>\n",
       "      <th>249</th>\n",
       "      <td>26.138844</td>\n",
       "      <td>-80.334347</td>\n",
       "    </tr>\n",
       "    <tr>\n",
       "      <th>279</th>\n",
       "      <td>33.984611</td>\n",
       "      <td>-117.980241</td>\n",
       "    </tr>\n",
       "    <tr>\n",
       "      <th>11</th>\n",
       "      <td>34.052104</td>\n",
       "      <td>-118.243688</td>\n",
       "    </tr>\n",
       "    <tr>\n",
       "      <th>136</th>\n",
       "      <td>26.128407</td>\n",
       "      <td>-80.149255</td>\n",
       "    </tr>\n",
       "    <tr>\n",
       "      <th>52</th>\n",
       "      <td>34.021995</td>\n",
       "      <td>-118.458868</td>\n",
       "    </tr>\n",
       "    <tr>\n",
       "      <th>16</th>\n",
       "      <td>34.130002</td>\n",
       "      <td>-118.129907</td>\n",
       "    </tr>\n",
       "    <tr>\n",
       "      <th>95</th>\n",
       "      <td>33.641619</td>\n",
       "      <td>-117.746572</td>\n",
       "    </tr>\n",
       "  </tbody>\n",
       "</table>\n",
       "</div>"
      ],
      "text/plain": [
       "      latitude   longitude\n",
       "271  52.372964    4.892317\n",
       "140 -33.860630  151.204776\n",
       "355  25.845672  -80.318891\n",
       "119  51.502786   -0.124192\n",
       "18   33.805774 -118.155494\n",
       "166  25.790049  -80.212558\n",
       "185  33.864529 -118.038644\n",
       "141  25.698997  -80.286142\n",
       "113  26.006447  -80.201624\n",
       "94   33.864732 -118.360905\n",
       "125  33.971404 -118.167856\n",
       "15   33.669017 -117.918595\n",
       "107  33.831280 -117.899132\n",
       "249  26.138844  -80.334347\n",
       "279  33.984611 -117.980241\n",
       "11   34.052104 -118.243688\n",
       "136  26.128407  -80.149255\n",
       "52   34.021995 -118.458868\n",
       "16   34.130002 -118.129907\n",
       "95   33.641619 -117.746572"
      ]
     },
     "execution_count": 11,
     "metadata": {},
     "output_type": "execute_result"
    }
   ],
   "source": [
    "result_df = clust_df.sort_values(['dist_to_nearest']).head(20)[['cl_latitude', 'cl_longitude']]\n",
    "result_df.columns = ['latitude', 'longitude']\n",
    "result_df"
   ]
  },
  {
   "cell_type": "code",
   "execution_count": 12,
   "metadata": {
    "collapsed": true
   },
   "outputs": [],
   "source": [
    "result_df.to_csv(\"C:\\\\workspace\\\\phystech\\\\SBT_ML\\\\clust_result.csv\", index=False)"
   ]
  },
  {
   "cell_type": "code",
   "execution_count": null,
   "metadata": {
    "collapsed": true
   },
   "outputs": [],
   "source": []
  }
 ],
 "metadata": {
  "kernelspec": {
   "display_name": "Python 2",
   "language": "python",
   "name": "python2"
  },
  "language_info": {
   "codemirror_mode": {
    "name": "ipython",
    "version": 2
   },
   "file_extension": ".py",
   "mimetype": "text/x-python",
   "name": "python",
   "nbconvert_exporter": "python",
   "pygments_lexer": "ipython2",
   "version": "2.7.11"
  }
 },
 "nbformat": 4,
 "nbformat_minor": 0
}
