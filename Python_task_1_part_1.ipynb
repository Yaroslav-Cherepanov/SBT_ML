{
 "cells": [
  {
   "cell_type": "markdown",
   "metadata": {},
   "source": [
    "## 1 Python"
   ]
  },
  {
   "cell_type": "markdown",
   "metadata": {},
   "source": [
    "Вообще первое что приходит в голову, когда спрашивают про отличие tuple от list в pytnon это immutability первой:"
   ]
  },
  {
   "cell_type": "code",
   "execution_count": 1,
   "metadata": {
    "collapsed": false
   },
   "outputs": [
    {
     "name": "stdout",
     "output_type": "stream",
     "text": [
      "(15, 3, 66)\n",
      "3\n"
     ]
    },
    {
     "ename": "TypeError",
     "evalue": "'tuple' object does not support item assignment",
     "output_type": "error",
     "traceback": [
      "\u001b[1;31m---------------------------------------------------------------------------\u001b[0m",
      "\u001b[1;31mTypeError\u001b[0m                                 Traceback (most recent call last)",
      "\u001b[1;32m<ipython-input-1-10f50076dad2>\u001b[0m in \u001b[0;36m<module>\u001b[1;34m()\u001b[0m\n\u001b[0;32m      2\u001b[0m \u001b[1;32mprint\u001b[0m \u001b[0mjust_tuple\u001b[0m\u001b[1;33m\u001b[0m\u001b[0m\n\u001b[0;32m      3\u001b[0m \u001b[1;32mprint\u001b[0m \u001b[0mjust_tuple\u001b[0m\u001b[1;33m[\u001b[0m\u001b[1;36m1\u001b[0m\u001b[1;33m]\u001b[0m\u001b[1;33m\u001b[0m\u001b[0m\n\u001b[1;32m----> 4\u001b[1;33m \u001b[0mjust_tuple\u001b[0m\u001b[1;33m[\u001b[0m\u001b[1;36m1\u001b[0m\u001b[1;33m]\u001b[0m \u001b[1;33m=\u001b[0m \u001b[1;36m9\u001b[0m\u001b[1;33m\u001b[0m\u001b[0m\n\u001b[0m",
      "\u001b[1;31mTypeError\u001b[0m: 'tuple' object does not support item assignment"
     ]
    }
   ],
   "source": [
    "just_tuple = (15, 3, 66)\n",
    "print just_tuple\n",
    "print just_tuple[1]\n",
    "just_tuple[1] = 9"
   ]
  },
  {
   "cell_type": "markdown",
   "metadata": {},
   "source": [
    "Как видно второй элемент tuple поменять не получилось, зато если взять этот же код и произвести его с list-ом, то все выполнится без ошибок:"
   ]
  },
  {
   "cell_type": "code",
   "execution_count": 2,
   "metadata": {
    "collapsed": false
   },
   "outputs": [
    {
     "name": "stdout",
     "output_type": "stream",
     "text": [
      "[15, 3, 66]\n",
      "3\n",
      "[15, 9, 66]\n"
     ]
    }
   ],
   "source": [
    "just_list = [15, 3, 66]\n",
    "print just_list\n",
    "print just_list[1]\n",
    "just_list[1] = 9\n",
    "print just_list"
   ]
  },
  {
   "cell_type": "markdown",
   "metadata": {},
   "source": [
    "Собственно поэтому tuple могут применяться в качестве ключа в dict. Например, часто в примерах с tuple показывают словарь в котором ключи это tuple со структурой (номер страницы, номер строки) в книге, а значения это сами строки:"
   ]
  },
  {
   "cell_type": "code",
   "execution_count": 3,
   "metadata": {
    "collapsed": false
   },
   "outputs": [
    {
     "name": "stdout",
     "output_type": "stream",
     "text": [
      "Such a good day!\n"
     ]
    }
   ],
   "source": [
    "book_lines = dict({(32,11): 'Such a good day!', \n",
    "                   (44, 494): 'I love python'} )\n",
    "print book_lines[(32,11)]"
   ]
  },
  {
   "cell_type": "markdown",
   "metadata": {},
   "source": [
    "Попробуем проделать это с list-ом"
   ]
  },
  {
   "cell_type": "code",
   "execution_count": 4,
   "metadata": {
    "collapsed": false
   },
   "outputs": [
    {
     "ename": "TypeError",
     "evalue": "unhashable type: 'list'",
     "output_type": "error",
     "traceback": [
      "\u001b[1;31m---------------------------------------------------------------------------\u001b[0m",
      "\u001b[1;31mTypeError\u001b[0m                                 Traceback (most recent call last)",
      "\u001b[1;32m<ipython-input-4-7f7c5ab52f36>\u001b[0m in \u001b[0;36m<module>\u001b[1;34m()\u001b[0m\n\u001b[1;32m----> 1\u001b[1;33m book_lines = dict({[32,11]: 'Such a good day!', \n\u001b[0m\u001b[0;32m      2\u001b[0m                    [44, 494]: 'I love python'} )\n\u001b[0;32m      3\u001b[0m \u001b[1;32mprint\u001b[0m \u001b[0mbook_lines\u001b[0m\u001b[1;33m[\u001b[0m\u001b[1;33m[\u001b[0m\u001b[1;36m32\u001b[0m\u001b[1;33m,\u001b[0m\u001b[1;36m11\u001b[0m\u001b[1;33m]\u001b[0m\u001b[1;33m]\u001b[0m\u001b[1;33m\u001b[0m\u001b[0m\n",
      "\u001b[1;31mTypeError\u001b[0m: unhashable type: 'list'"
     ]
    }
   ],
   "source": [
    "book_lines = dict({[32,11]: 'Such a good day!', \n",
    "                   [44, 494]: 'I love python'} )\n",
    "print book_lines[[32,11]]"
   ]
  },
  {
   "cell_type": "markdown",
   "metadata": {},
   "source": [
    "Получаем ошибку unhashable type. Это значит, что он не может посчитать хеш-функцию от обьекта list. Это все наводит на мысль, что dict реализован на хеш-таблицах, поскольку именно там нужно вычисление хеш-функции:"
   ]
  },
  {
   "cell_type": "code",
   "execution_count": 5,
   "metadata": {
    "collapsed": false
   },
   "outputs": [
    {
     "data": {
      "text/plain": [
       "-892547118"
      ]
     },
     "execution_count": 5,
     "metadata": {},
     "output_type": "execute_result"
    }
   ],
   "source": [
    "hash((32,11))"
   ]
  },
  {
   "cell_type": "markdown",
   "metadata": {},
   "source": [
    "Теперь речь пойдет о range и xrange. Отличие у них в том что range возвращает список значений, а xrange возвращет генератор:"
   ]
  },
  {
   "cell_type": "code",
   "execution_count": 6,
   "metadata": {
    "collapsed": false
   },
   "outputs": [
    {
     "name": "stdout",
     "output_type": "stream",
     "text": [
      "[0, 1, 2, 3, 4, 5, 6, 7, 8, 9]\n",
      "xrange(10)\n",
      "<type 'list'>\n",
      "<type 'xrange'>\n"
     ]
    },
    {
     "data": {
      "text/plain": [
       "[0, 1, 2, 3, 4, 5, 6, 7, 8, 9]"
      ]
     },
     "execution_count": 6,
     "metadata": {},
     "output_type": "execute_result"
    }
   ],
   "source": [
    "print range(10)\n",
    "print xrange(10)\n",
    "\n",
    "print type(range(10))\n",
    "print type(xrange(10))\n",
    "\n",
    "[i for i in xrange(10)]"
   ]
  },
  {
   "cell_type": "markdown",
   "metadata": {},
   "source": [
    "list comprehension я использовал в последней строчке предыдущей ячейки, циклы в нем могут быть и вложенными и с условиями, но в таком случае они становятся довольно громоздкими и тяжелопонимаемыми. Нужно знать меру в использовании этих самых list comprehension."
   ]
  },
  {
   "cell_type": "markdown",
   "metadata": {},
   "source": [
    "map/reduce:"
   ]
  },
  {
   "cell_type": "code",
   "execution_count": 7,
   "metadata": {
    "collapsed": false
   },
   "outputs": [
    {
     "name": "stdout",
     "output_type": "stream",
     "text": [
      "[1, 4, 9, 16]\n",
      "24\n",
      "10\n"
     ]
    }
   ],
   "source": [
    "numbers = [1,2,3,4]\n",
    "print map(lambda x: x*x, numbers)\n",
    "print reduce(lambda x,y: x*y, numbers)\n",
    "\n",
    "print reduce(lambda x,y: x+y, numbers)"
   ]
  },
  {
   "cell_type": "markdown",
   "metadata": {},
   "source": [
    "Соответственно понятно, что map применяет какую то указанную функцию к списку значений, а reduce осуществляет свертку списка к одному значению при помощи заданной функции"
   ]
  },
  {
   "cell_type": "markdown",
   "metadata": {},
   "source": [
    "Функция для чисел Фибоначчи:"
   ]
  },
  {
   "cell_type": "code",
   "execution_count": 8,
   "metadata": {
    "collapsed": true
   },
   "outputs": [],
   "source": [
    "def fibonacci(n):\n",
    "    if n == 0: return 0\n",
    "    elif n == 1: return 1\n",
    "    else: return fibonacci(n-1) + fibonacci(n-2)"
   ]
  },
  {
   "cell_type": "code",
   "execution_count": 9,
   "metadata": {
    "collapsed": false
   },
   "outputs": [
    {
     "name": "stdout",
     "output_type": "stream",
     "text": [
      "1\n",
      "5\n",
      "55\n",
      "75025\n"
     ]
    }
   ],
   "source": [
    "print fibonacci(2)\n",
    "print fibonacci(5)\n",
    "print fibonacci(10)\n",
    "print fibonacci(25)"
   ]
  },
  {
   "cell_type": "markdown",
   "metadata": {},
   "source": [
    "Проблемы с рекурсией у меня начались, когда n стало равно 977 (на 976 еще работал)"
   ]
  },
  {
   "cell_type": "code",
   "execution_count": null,
   "metadata": {
    "collapsed": false
   },
   "outputs": [],
   "source": [
    "fibonacci(976)"
   ]
  },
  {
   "cell_type": "code",
   "execution_count": 10,
   "metadata": {
    "collapsed": false
   },
   "outputs": [
    {
     "ename": "RuntimeError",
     "evalue": "maximum recursion depth exceeded",
     "output_type": "error",
     "traceback": [
      "\u001b[1;31m---------------------------------------------------------------------------\u001b[0m",
      "\u001b[1;31mRuntimeError\u001b[0m                              Traceback (most recent call last)",
      "\u001b[1;32m<ipython-input-10-e54149b35f1d>\u001b[0m in \u001b[0;36m<module>\u001b[1;34m()\u001b[0m\n\u001b[1;32m----> 1\u001b[1;33m \u001b[0mfibonacci\u001b[0m\u001b[1;33m(\u001b[0m\u001b[1;36m977\u001b[0m\u001b[1;33m)\u001b[0m\u001b[1;33m\u001b[0m\u001b[0m\n\u001b[0m",
      "\u001b[1;32m<ipython-input-8-10fc5e2a37b9>\u001b[0m in \u001b[0;36mfibonacci\u001b[1;34m(n)\u001b[0m\n\u001b[0;32m      2\u001b[0m     \u001b[1;32mif\u001b[0m \u001b[0mn\u001b[0m \u001b[1;33m==\u001b[0m \u001b[1;36m0\u001b[0m\u001b[1;33m:\u001b[0m \u001b[1;32mreturn\u001b[0m \u001b[1;36m0\u001b[0m\u001b[1;33m\u001b[0m\u001b[0m\n\u001b[0;32m      3\u001b[0m     \u001b[1;32melif\u001b[0m \u001b[0mn\u001b[0m \u001b[1;33m==\u001b[0m \u001b[1;36m1\u001b[0m\u001b[1;33m:\u001b[0m \u001b[1;32mreturn\u001b[0m \u001b[1;36m1\u001b[0m\u001b[1;33m\u001b[0m\u001b[0m\n\u001b[1;32m----> 4\u001b[1;33m     \u001b[1;32melse\u001b[0m\u001b[1;33m:\u001b[0m \u001b[1;32mreturn\u001b[0m \u001b[0mfibonacci\u001b[0m\u001b[1;33m(\u001b[0m\u001b[0mn\u001b[0m\u001b[1;33m-\u001b[0m\u001b[1;36m1\u001b[0m\u001b[1;33m)\u001b[0m \u001b[1;33m+\u001b[0m \u001b[0mfibonacci\u001b[0m\u001b[1;33m(\u001b[0m\u001b[0mn\u001b[0m\u001b[1;33m-\u001b[0m\u001b[1;36m2\u001b[0m\u001b[1;33m)\u001b[0m\u001b[1;33m\u001b[0m\u001b[0m\n\u001b[0m",
      "... last 1 frames repeated, from the frame below ...\n",
      "\u001b[1;32m<ipython-input-8-10fc5e2a37b9>\u001b[0m in \u001b[0;36mfibonacci\u001b[1;34m(n)\u001b[0m\n\u001b[0;32m      2\u001b[0m     \u001b[1;32mif\u001b[0m \u001b[0mn\u001b[0m \u001b[1;33m==\u001b[0m \u001b[1;36m0\u001b[0m\u001b[1;33m:\u001b[0m \u001b[1;32mreturn\u001b[0m \u001b[1;36m0\u001b[0m\u001b[1;33m\u001b[0m\u001b[0m\n\u001b[0;32m      3\u001b[0m     \u001b[1;32melif\u001b[0m \u001b[0mn\u001b[0m \u001b[1;33m==\u001b[0m \u001b[1;36m1\u001b[0m\u001b[1;33m:\u001b[0m \u001b[1;32mreturn\u001b[0m \u001b[1;36m1\u001b[0m\u001b[1;33m\u001b[0m\u001b[0m\n\u001b[1;32m----> 4\u001b[1;33m     \u001b[1;32melse\u001b[0m\u001b[1;33m:\u001b[0m \u001b[1;32mreturn\u001b[0m \u001b[0mfibonacci\u001b[0m\u001b[1;33m(\u001b[0m\u001b[0mn\u001b[0m\u001b[1;33m-\u001b[0m\u001b[1;36m1\u001b[0m\u001b[1;33m)\u001b[0m \u001b[1;33m+\u001b[0m \u001b[0mfibonacci\u001b[0m\u001b[1;33m(\u001b[0m\u001b[0mn\u001b[0m\u001b[1;33m-\u001b[0m\u001b[1;36m2\u001b[0m\u001b[1;33m)\u001b[0m\u001b[1;33m\u001b[0m\u001b[0m\n\u001b[0m",
      "\u001b[1;31mRuntimeError\u001b[0m: maximum recursion depth exceeded"
     ]
    }
   ],
   "source": [
    "fibonacci(977)"
   ]
  },
  {
   "cell_type": "markdown",
   "metadata": {},
   "source": [
    "Поменять глубину рекурсии можно: sys.setrecursionlimit"
   ]
  },
  {
   "cell_type": "code",
   "execution_count": 11,
   "metadata": {
    "collapsed": false
   },
   "outputs": [
    {
     "name": "stdout",
     "output_type": "stream",
     "text": [
      "1000 loops, best of 3: 1.72 µs per loop\n",
      "1000 loops, best of 3: 20.3 µs per loop\n",
      "1000 loops, best of 3: 2.47 ms per loop\n"
     ]
    }
   ],
   "source": [
    "%timeit -n 1000 -r 3 fibonacci(5)\n",
    "%timeit -n 1000 -r 3 fibonacci(10)\n",
    "%timeit -n 1000 -r 3 fibonacci(20)"
   ]
  },
  {
   "cell_type": "markdown",
   "metadata": {},
   "source": [
    "Третья строчка выполнялась уже ощутимо дольше предыдущих"
   ]
  },
  {
   "cell_type": "markdown",
   "metadata": {},
   "source": [
    "Функция, возвращающая модуль и аргумент заданного комплексного числа:"
   ]
  },
  {
   "cell_type": "code",
   "execution_count": 12,
   "metadata": {
    "collapsed": false
   },
   "outputs": [],
   "source": [
    "import math\n",
    "def complex_abs_arg(x, y):\n",
    "    \"\"\"\n",
    "    This function to compute absolute value and argument of complex number\n",
    "    Args:\n",
    "        x(float): real part\n",
    "        y(float): imaginary part\n",
    "    Returns:\n",
    "        tuple with absolute value and argument of complex number\n",
    "    >>> complex_abs_arg(7,4)\n",
    "    (8.06225774829855, 0.5191461142465229)\n",
    "    >>> complex_abs_arg(0,-4)\n",
    "    (4.0, -1.5707963267948966)\n",
    "    >>> complex_abs_arg(-7,-4)\n",
    "    (8.06225774829855, -2.62244653934327)\n",
    "    \"\"\"\n",
    "    # рассчитываем модуль\n",
    "    mod = math.sqrt(x**2 + y**2)\n",
    "    # аргумент\n",
    "    if x > 0: arg = math.atan(y/float(x))\n",
    "    elif x < 0 and y >= 0: arg = math.atan(y/float(x)) + math.pi\n",
    "    elif x < 0 and y < 0: arg = math.atan(y/float(x)) - math.pi\n",
    "    elif x == 0 and y > 0: arg = math.pi / 2.\n",
    "    elif x == 0 and y < 0: arg = -math.pi / 2.\n",
    "    else: arg = None\n",
    "    return (mod, arg)"
   ]
  },
  {
   "cell_type": "code",
   "execution_count": 13,
   "metadata": {
    "collapsed": false
   },
   "outputs": [
    {
     "name": "stdout",
     "output_type": "stream",
     "text": [
      "(8.06225774829855, 0.5191461142465229)\n",
      "(4.0, -1.5707963267948966)\n",
      "(8.06225774829855, -2.62244653934327)\n",
      "(8.06225774829855, -0.5191461142465229)\n",
      "(0.0, None)\n"
     ]
    }
   ],
   "source": [
    "print complex_abs_arg(7,4)\n",
    "print complex_abs_arg(0,-4)\n",
    "print complex_abs_arg(-7,-4)\n",
    "print complex_abs_arg(7,-4)\n",
    "print complex_abs_arg(0,0)"
   ]
  },
  {
   "cell_type": "code",
   "execution_count": 14,
   "metadata": {
    "collapsed": false
   },
   "outputs": [
    {
     "data": {
      "text/plain": [
       "TestResults(failed=0, attempted=3)"
      ]
     },
     "execution_count": 14,
     "metadata": {},
     "output_type": "execute_result"
    }
   ],
   "source": [
    "import doctest\n",
    "doctest.testmod()"
   ]
  },
  {
   "cell_type": "code",
   "execution_count": 15,
   "metadata": {
    "collapsed": true
   },
   "outputs": [],
   "source": [
    "class Complex:\n",
    "    def __init__(self, real, imaginary):\n",
    "        self.real = real\n",
    "        self.imaginary = imaginary\n",
    "    def __add__(self, other):\n",
    "        return Complex(self.real + other.real, self.imaginary + other.imaginary)\n",
    "    def __sub__(self, other):\n",
    "        return Complex(self.real - other.real, self.imaginary - other.imaginary)\n",
    "    def __mul__(self, other):\n",
    "        return Complex(self.real*other.real - self.imaginary*other.imaginary, self.imaginary*other.real + self.real*other.imaginary)\n",
    "    def __abs__(self):\n",
    "        return math.sqrt(self.real**2 + self.imaginary**2)\n",
    "    def argument(self):\n",
    "        if self.real > 0: return math.atan(self.imaginary/float(self.real))\n",
    "        if self.real < 0 and self.imaginary >= 0: return math.atan(self.imaginary/float(self.real)) + math.pi\n",
    "        if self.real < 0 and self.imaginary < 0: return math.atan(self.imaginary/float(self.real)) - math.pi\n",
    "        if self.real == 0 and self.imaginary > 0: return math.pi / 2.\n",
    "        if self.real == 0 and self.imaginary < 0: return -math.pi / 2.\n",
    "        return None\n",
    "    def __str__(self):\n",
    "        return '(%g, %g)' % (self.real, self.imaginary)"
   ]
  },
  {
   "cell_type": "code",
   "execution_count": 16,
   "metadata": {
    "collapsed": false
   },
   "outputs": [
    {
     "name": "stdout",
     "output_type": "stream",
     "text": [
      "(0, -8)\n",
      "(14, 0)\n",
      "(-65, 0)\n",
      "8.0622577483\n",
      "-0.519146114247\n"
     ]
    }
   ],
   "source": [
    "com_a = Complex(7,-4)\n",
    "com_b = Complex(-7,-4)\n",
    "print com_a + com_b\n",
    "print com_a - com_b\n",
    "print com_a * com_b\n",
    "print abs(com_a)\n",
    "print com_a.argument()"
   ]
  },
  {
   "cell_type": "markdown",
   "metadata": {
    "collapsed": true
   },
   "source": [
    "Теперь побалуемся с декораторами. Вспомним нашу функцию для вычисления n-ого числа фибоначчи:"
   ]
  },
  {
   "cell_type": "code",
   "execution_count": 17,
   "metadata": {
    "collapsed": true
   },
   "outputs": [],
   "source": [
    "def fibonacci(n):\n",
    "    if n == 0: return 0\n",
    "    elif n == 1: return 1\n",
    "    else: return fibonacci(n-1) + fibonacci(n-2)"
   ]
  },
  {
   "cell_type": "markdown",
   "metadata": {},
   "source": [
    "Пишем декорирующую функцию:"
   ]
  },
  {
   "cell_type": "code",
   "execution_count": 18,
   "metadata": {
    "collapsed": true
   },
   "outputs": [],
   "source": [
    "import time\n",
    "\n",
    "def time_decorator(func_to_measure):\n",
    "    def wrapper_accepting_arg(*args):\n",
    "        time1 = time.time()\n",
    "        ret = func_to_measure(*args)\n",
    "        time2 = time.time()\n",
    "        print 'Function executed in %0.5f ms' % ((time2-time1)*1000.0)\n",
    "        return ret\n",
    "    return wrapper_accepting_arg"
   ]
  },
  {
   "cell_type": "code",
   "execution_count": 19,
   "metadata": {
    "collapsed": false
   },
   "outputs": [],
   "source": [
    "@time_decorator\n",
    "def decorated_fibonacci(n):\n",
    "    if n == 0: return 0\n",
    "    elif n == 1: return 1\n",
    "    else: return fibonacci(n-1) + fibonacci(n-2)"
   ]
  },
  {
   "cell_type": "code",
   "execution_count": 20,
   "metadata": {
    "collapsed": false
   },
   "outputs": [
    {
     "name": "stdout",
     "output_type": "stream",
     "text": [
      "Function executed in 2.00009 ms\n",
      "Function executed in 29.00004 ms\n",
      "Function executed in 286.99994 ms\n"
     ]
    },
    {
     "data": {
      "text/plain": [
       "832040"
      ]
     },
     "execution_count": 20,
     "metadata": {},
     "output_type": "execute_result"
    }
   ],
   "source": [
    "decorated_fibonacci(20)\n",
    "decorated_fibonacci(25)\n",
    "decorated_fibonacci(30)"
   ]
  },
  {
   "cell_type": "code",
   "execution_count": 21,
   "metadata": {
    "collapsed": true
   },
   "outputs": [],
   "source": [
    "def memoize(function):\n",
    "    memo = {}\n",
    "    def wrapper(*args):\n",
    "        if args in memo:\n",
    "            return memo[args]\n",
    "        else:\n",
    "            rv = function(*args)\n",
    "            memo[args] = rv\n",
    "            return rv\n",
    "    return wrapper"
   ]
  },
  {
   "cell_type": "code",
   "execution_count": 22,
   "metadata": {
    "collapsed": false
   },
   "outputs": [],
   "source": [
    "@time_decorator\n",
    "@memoize\n",
    "def cached_fibonacci(n):\n",
    "    if n == 0: return 0\n",
    "    elif n == 1: return 1\n",
    "    else: return fibonacci(n-1) + fibonacci(n-2)"
   ]
  },
  {
   "cell_type": "code",
   "execution_count": 23,
   "metadata": {
    "collapsed": false
   },
   "outputs": [
    {
     "name": "stdout",
     "output_type": "stream",
     "text": [
      "Function executed in 30.99990 ms\n",
      "Function executed in 0.00000 ms\n",
      "Function executed in 294.00015 ms\n",
      "Function executed in 0.00000 ms\n",
      "Function executed in 0.00000 ms\n"
     ]
    },
    {
     "data": {
      "text/plain": [
       "75025"
      ]
     },
     "execution_count": 23,
     "metadata": {},
     "output_type": "execute_result"
    }
   ],
   "source": [
    "cached_fibonacci(25)\n",
    "cached_fibonacci(25)\n",
    "cached_fibonacci(30)\n",
    "cached_fibonacci(30)\n",
    "cached_fibonacci(25)"
   ]
  },
  {
   "cell_type": "markdown",
   "metadata": {},
   "source": [
    "Видно как работает кэширование: повторный вызов функции с прошлым аргументом делается практически моментально."
   ]
  },
  {
   "cell_type": "code",
   "execution_count": 24,
   "metadata": {
    "collapsed": true
   },
   "outputs": [],
   "source": [
    "@memoize\n",
    "@time_decorator\n",
    "def cached_timed_fibonacci(n):\n",
    "    if n == 0: return 0\n",
    "    elif n == 1: return 1\n",
    "    else: return fibonacci(n-1) + fibonacci(n-2)"
   ]
  },
  {
   "cell_type": "code",
   "execution_count": 25,
   "metadata": {
    "collapsed": false
   },
   "outputs": [
    {
     "name": "stdout",
     "output_type": "stream",
     "text": [
      "Function executed in 292.00006 ms\n"
     ]
    },
    {
     "data": {
      "text/plain": [
       "832040"
      ]
     },
     "execution_count": 25,
     "metadata": {},
     "output_type": "execute_result"
    }
   ],
   "source": [
    "cached_timed_fibonacci(30)\n",
    "cached_timed_fibonacci(30)"
   ]
  },
  {
   "cell_type": "markdown",
   "metadata": {},
   "source": [
    "Если переставить их местами, то декоратор, отвечающий за расчет и показ времени, сработает один раз, потом не будет работать, потому что значение будет доставаться сразу из кэша"
   ]
  },
  {
   "cell_type": "code",
   "execution_count": 26,
   "metadata": {
    "collapsed": false
   },
   "outputs": [
    {
     "data": {
      "text/plain": [
       "832040"
      ]
     },
     "execution_count": 26,
     "metadata": {},
     "output_type": "execute_result"
    }
   ],
   "source": [
    "cached_timed_fibonacci(30)"
   ]
  },
  {
   "cell_type": "code",
   "execution_count": 27,
   "metadata": {
    "collapsed": false
   },
   "outputs": [
    {
     "name": "stdout",
     "output_type": "stream",
     "text": [
      "Function executed in 490.99994 ms\n"
     ]
    },
    {
     "data": {
      "text/plain": [
       "1346269"
      ]
     },
     "execution_count": 27,
     "metadata": {},
     "output_type": "execute_result"
    }
   ],
   "source": [
    "cached_timed_fibonacci(31)"
   ]
  },
  {
   "cell_type": "code",
   "execution_count": 28,
   "metadata": {
    "collapsed": false
   },
   "outputs": [
    {
     "data": {
      "text/plain": [
       "1346269"
      ]
     },
     "execution_count": 28,
     "metadata": {},
     "output_type": "execute_result"
    }
   ],
   "source": [
    "cached_timed_fibonacci(31)"
   ]
  },
  {
   "cell_type": "markdown",
   "metadata": {},
   "source": [
    "Работает это все потому что в питоне функции являются обьектами, значит с ними можно оперировать как и с обычными переменными. То есть можно возвращать функции, передавать их на вход другим функциям и даже определять функции внутри функций. То есть можно передать функцию как параметр, внутри другой функции, вызвать её там и делать с её выводом там все что угодно."
   ]
  },
  {
   "cell_type": "code",
   "execution_count": 29,
   "metadata": {
    "collapsed": true
   },
   "outputs": [],
   "source": [
    "class Complex:\n",
    "    def __init__(self, real, imaginary):\n",
    "        self.__real = real\n",
    "        self.__imaginary = imaginary\n",
    "    def __add__(self, other):\n",
    "        return Complex(self.__real + other.__real, self.__imaginary + other.__imaginary)\n",
    "    def __sub__(self, other):\n",
    "        return Complex(self.__real - other.__real, self.__imaginary - other.__imaginary)\n",
    "    def __mul__(self, other):\n",
    "        return Complex(self.__real*other.__real - self.__imaginary*other.__imaginary, \n",
    "                       self.__imaginary*other.__real + self.__real*other.__imaginary)\n",
    "    def __abs__(self):\n",
    "        return math.sqrt(self.__real**2 + self.__imaginary**2)\n",
    "    def argument(self):\n",
    "        if self.__real > 0: return math.atan(self.__imaginary/float(self.__real))\n",
    "        if self.__real < 0 and self.__imaginary >= 0: return math.atan(self.__imaginary/float(self.__real)) + math.pi\n",
    "        if self.__real < 0 and self.__imaginary < 0: return math.atan(self.__imaginary/float(self.__real)) - math.pi\n",
    "        if self.__real == 0 and self.__imaginary > 0: return math.pi / 2.\n",
    "        if self.__real == 0 and self.__imaginary < 0: return -math.pi / 2.\n",
    "        return None\n",
    "    def __str__(self):\n",
    "        return '(%g, %g)' % (self.real, self.imaginary)\n",
    "    @property\n",
    "    def real(self):\n",
    "        return self.__real\n",
    "    @real.setter\n",
    "    def real(self, real):\n",
    "        self.__real = real\n",
    "    @property\n",
    "    def imaginary(self):\n",
    "        return self.__imaginary\n",
    "    @imaginary.setter\n",
    "    def imaginary(self, imaginary):\n",
    "        self.__imaginary = imaginary"
   ]
  },
  {
   "cell_type": "code",
   "execution_count": 30,
   "metadata": {
    "collapsed": false
   },
   "outputs": [
    {
     "name": "stdout",
     "output_type": "stream",
     "text": [
      "(7, -4)\n",
      "(14, -8)\n",
      "(6, -4)\n"
     ]
    }
   ],
   "source": [
    "comp_1 = Complex(7,-4)\n",
    "print comp_1\n",
    "print comp_1 + comp_1\n",
    "comp_1.real = 6\n",
    "print comp_1"
   ]
  },
  {
   "cell_type": "markdown",
   "metadata": {},
   "source": [
    "@property нужно, чтобы превратить поля из класса в свойство. То есть, сделав в классе выше методы с аннотациями @property и @real.setter мы получаем геттер и сеттер для приватного поля.\n",
    "Если бы мы делали это без аннотаций, то потом вызывая геттер и сеттер, пришлось бы писать не 'comp_1.real = 6', а 'comp_1.set_real(6)'"
   ]
  },
  {
   "cell_type": "markdown",
   "metadata": {
    "collapsed": true
   },
   "source": [
    "Продолжение задания в файле Python_task_1_part_2"
   ]
  }
 ],
 "metadata": {
  "kernelspec": {
   "display_name": "Python 2",
   "language": "python",
   "name": "python2"
  },
  "language_info": {
   "codemirror_mode": {
    "name": "ipython",
    "version": 2
   },
   "file_extension": ".py",
   "mimetype": "text/x-python",
   "name": "python",
   "nbconvert_exporter": "python",
   "pygments_lexer": "ipython2",
   "version": "2.7.11"
  }
 },
 "nbformat": 4,
 "nbformat_minor": 0
}
